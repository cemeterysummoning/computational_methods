{
 "cells": [
  {
   "attachments": {},
   "cell_type": "markdown",
   "metadata": {},
   "source": [
    "# Counting Numbers\n",
    "In addition to bases like decimal, binary, octal, and hexadecimal, there are three distinct number systems that are used within the context of computing:\n",
    "1. Counting numbers (Natural numbers): numbers that are used to 'index' structures\n",
    "2. Fixed point numbers: numbers whose length is exactly the word size\n",
    "3. Floating point numbers: numbers, typically written in scientific notation, consisting of a significand/mantissa and an exponent. \n",
    "\n",
    "| |significand|exponent|\n",
    "|-|-|-|\n",
    "|$\\pi$ = | $0.314$ | $10^1$|\n",
    "\n",
    "For a floating point, the number of digits in a mantissa is less than the number of digits in a fixed point number.\n",
    "For a 32 bit floating point number, the first bit is typically delegated to representing the sign, with the next 8 bits representing the exponent. The remaining 23 bits represent the mantissa.\n",
    "\n",
    "Due to this representation, the floating point numbers that we can represent computation are \"clustered\" around 0; as we move away from the origin, the spacing between each number we can represent becomes larger and larger, to an almost logarithmic degree.\n",
    "\n",
    "In a floating point number, the exponent has what is known as \"geometric progression of spacing\", while the mantissa has an \"arithmetic progression of spacing.\" \n",
    "\n",
    "In summary, floating point numbers get farther apart on the number line as they become larger in magnitude."
   ]
  },
  {
   "attachments": {},
   "cell_type": "markdown",
   "metadata": {},
   "source": [
    "# Machine Epsilon\n",
    "Machine Epsilon, also referred to as \"Macheps,\" is the difference (\"distance\") between two adjacent representable floating point numbers in a computer system. \n",
    "\n",
    "If we are working with a floating point number and we attempt to add or subtract a floating point number that is less than machine epsilon, we will find that the precision is gone; we will be unable to recover the precise calculation."
   ]
  }
 ],
 "metadata": {
  "kernelspec": {
   "display_name": "Julia 1.8.1",
   "language": "julia",
   "name": "julia-1.8"
  },
  "language_info": {
   "file_extension": ".jl",
   "mimetype": "application/julia",
   "name": "julia",
   "version": "1.8.1"
  },
  "orig_nbformat": 4,
  "vscode": {
   "interpreter": {
    "hash": "916dbcbb3f70747c44a77c7bcd40155683ae19c65e1c03b4aa3499c5328201f1"
   }
  }
 },
 "nbformat": 4,
 "nbformat_minor": 2
}
