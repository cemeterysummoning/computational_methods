{
 "cells": [
  {
   "cell_type": "code",
   "execution_count": 2,
   "metadata": {},
   "outputs": [],
   "source": [
    "d = 100\n",
    "while d != 0\n",
    "    d -= 0.1\n",
    "    if d < 10\n",
    "        print(\"You're getting close to the wall\")\n",
    "    end\n",
    "end\n",
    "\n",
    "print(\"you've collided with the wall\")"
   ]
  },
  {
   "attachments": {},
   "cell_type": "markdown",
   "metadata": {},
   "source": [
    "The program above will never terminate; the numbers will get extremely close to 0 and just barely pass it, thus never fulfilling the condition $d \\neq$ 0. This problem is due to something known as floating point error.\n",
    "There are a couple of sources for error in a programming context.\n",
    "1. Measurement error / User error\n",
    "2. Inadequate modeling\n",
    "3. Precision error (number representation, floating point error) \n",
    "4. Rounding error\n",
    "5. Truncation error"
   ]
  },
  {
   "attachments": {},
   "cell_type": "markdown",
   "metadata": {},
   "source": [
    "# Error Quantification\n",
    "## True error\n",
    "True error is simply the difference between the true value and the approximated value found by a program, denoted as $E_t$. By its very nature, every approximation is going to be different from the true value; approximations are meant to produce a value \"good enough\" for calculation while preserving some computing power. For example, the derivative at a point can be approximated as \n",
    "$$f'(x) \\approx \\frac{f(x + h) - f(x)}{h}$$\n",
    "In discrete systems, like computers, symbolic differentiation is a challenging task; while we can simply differentiate and plug in values for the derivative of $7e^{0.5x}$, it is much easier to forgo mathematical accuracy in favor of a \"good enough\" approximation. The true error, then, would be the difference \n",
    "$$f'(x) - \\frac{f(x + h) - f(x)}{h}$$ \n",
    "However, the magnitude of some true error is not sufficient to communicate the full picture of the nature of the error itself; an error of 1 is excellent for some large mumber, but is horrible for a really small number.\n",
    "\n",
    "## Relative error\n",
    "Relative error aims to remedy the issue with true error by dividing the true error by the true value; in doing so, it aims to quantify the amount of error present in terms of the actual value. Relative error is equal to \n",
    "$$\\epsilon_t = \\frac{\\text{True value - Approximate value}}{\\text{True value}} = \\frac{E_t}{f(x_0)}$$\n",
    "However, there is a small problem; relative error, along with true error, requires us to have knowledge of the true value, which is not always the case.\n",
    "\n",
    "## Approximate error\n",
    "Approximate error is the difference between some present approximation and a previously executed approximation, with the motivation being that comparisons between some iterated process of generating approximations will be able to quantify error relative to each other.\n",
    "$$E_a = \\text{Present approximation - Previous approximation}$$\n",
    "However, this suffers from the same issue as true error, in that it is just a magnitude; there is no way to gauge how serious the error is in relation to the actual value.\n",
    "\n",
    "## Relative approximate error\n",
    "Relative approximation is a similar approach to error as relative error, different in that it uses approximate error instead of true error. \n",
    "$$\\epsilon_a = \\frac{\\text{Present approximation - Previous approximation}}{\\text{Present approximation}} = \\frac{\\text{new - old}}{\\text{new}}$$"
   ]
  },
  {
   "attachments": {},
   "cell_type": "markdown",
   "metadata": {},
   "source": [
    "In dealing with error, we want to follow a series of principles:\n",
    "1. Identify the source of error\n",
    "2. Quantify the error\n",
    "3. Minimize the error\n",
    "In minimization, we can set some error \"tolerance\" and continue iterating in an approximation process until $\\epsilon_a \\leq$ tolerance."
   ]
  },
  {
   "cell_type": "code",
   "execution_count": 10,
   "metadata": {},
   "outputs": [
    {
     "name": "stdout",
     "output_type": "stream",
     "text": [
      "0.000695571719850918"
     ]
    }
   ],
   "source": [
    "# approximation of e^x\n",
    "factorial(x) = x >= 1 ? x * factorial(x - 1) : 1\n",
    "\n",
    "true_value = ℯ^0.7\n",
    "\n",
    "approx_5 = 0\n",
    "for i = 0:4 \n",
    "    approx_5 += (0.7^i) / factorial(i)\n",
    "end\n",
    "\n",
    "approx_6 = approx_5 + (0.7^5) / factorial(5)\n",
    "\n",
    "error_approx = (approx_6 - approx_5) / approx_6\n",
    "print(error_approx)"
   ]
  },
  {
   "attachments": {},
   "cell_type": "markdown",
   "metadata": {},
   "source": [
    "# Significant figures\n",
    "Significant figures indicate the number of digits in a value that contribute to the accuracy/precision of the value. For example, if we have a ruler with markings only for millimeters, our measurement with that ruler is limited on the order of magnitude of millimeters. We can take three measurements of a surface, for example: 279.2 mm, 279.6 mm, and 279.4 mm. We are sure that 279 is the correct number of *whole* millimeters, but we are unsure of the decimal afterwards. There is an inherent associated uncertainty associated with digits past the decimal point. This quantity has four significant figures.\n",
    "\n",
    "When performing conversions, we require a preservation of significant figures.\n",
    "\n",
    "In a measured quantity, the number of significant figures gives an indication of the fine-ness of the measurement device. In calculations, the number of significant figures is an indication of how much \"trust\" we place onto the precision of the calculations. \n",
    "\n",
    "There are a couple of rules for preserving significant figures in calculations.\n",
    "1. The result of multiplying or dividing can only contain as many significant figures as the least precisely known quantity in the calculation. \n",
    "2. The result of adding or subtracting must be expressed with the same number of present decimal places as the quantity carrying the smallest number of decimal places.\n",
    "3. Exact numbers (conversion factors) have an unlimited quantity of significant figures.\n",
    "\n",
    "All non-zero digits are significant. Trailing zeroes or zeroes in between a number are also significant. However, leading zeroes are not significant."
   ]
  },
  {
   "attachments": {},
   "cell_type": "markdown",
   "metadata": {},
   "source": [
    "In applying an iterative method to minimize error, we may set an upper bound for the amount of error that we are comfortable with.\n",
    "$$|\\epsilon_a| \\leq 0.5 \\cdot 10^{2-m}\\%$$\n",
    "where $m$ describes at least as many significant figures that we want to be correct in our answer.\n",
    "\n",
    "There are several different sources of error.\n",
    "1. Round-off error is the difference between an exact number and the quantity that can be represented in a machine. \n",
    "2. Truncation error is the error caused by truncating a mathematical procedure."
   ]
  },
  {
   "cell_type": "code",
   "execution_count": 8,
   "metadata": {},
   "outputs": [
    {
     "name": "stdout",
     "output_type": "stream",
     "text": [
      "k = 1 : 1.000000 -> 0.451689, error : -1.213914\n",
      "k = 2 : 0.451689 -> 0.501796, error : 0.099856\n"
     ]
    },
    {
     "name": "stdout",
     "output_type": "stream",
     "text": [
      "k = 3 : 0.501796 -> 0.499965, error : -0.003664\n"
     ]
    }
   ],
   "source": [
    "using Printf\n",
    "# estimating cos(pi/3) with maclaurin series\n",
    "error = 1\n",
    "error_threshold = 0.005\n",
    "prev_value = 1\n",
    "cur_value = 1\n",
    "k = 1\n",
    "\n",
    "while abs(error) > error_threshold\n",
    "    prev_value = cur_value\n",
    "    current_term = ((-1) ^ k * (pi / 3) ^ (2 * k)) / (factorial(2 * k))\n",
    "    cur_value = prev_value + current_term\n",
    "    error = (cur_value - prev_value) / cur_value\n",
    "    @printf(\"k = %d : %f -> %f, error : %f\\n\", k, prev_value, cur_value, error)\n",
    "    k += 1\n",
    "end"
   ]
  }
 ],
 "metadata": {
  "kernelspec": {
   "display_name": "Julia 1.8.1",
   "language": "julia",
   "name": "julia-1.8"
  },
  "language_info": {
   "file_extension": ".jl",
   "mimetype": "application/julia",
   "name": "julia",
   "version": "1.8.1"
  },
  "orig_nbformat": 4,
  "vscode": {
   "interpreter": {
    "hash": "916dbcbb3f70747c44a77c7bcd40155683ae19c65e1c03b4aa3499c5328201f1"
   }
  }
 },
 "nbformat": 4,
 "nbformat_minor": 2
}
