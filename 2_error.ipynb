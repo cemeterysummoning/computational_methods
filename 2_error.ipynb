{
 "cells": [
  {
   "cell_type": "code",
   "execution_count": 2,
   "metadata": {},
   "outputs": [],
   "source": [
    "d = 100\n",
    "while d != 0\n",
    "    d -= 0.1\n",
    "    if d < 10\n",
    "        print(\"You're getting close to the wall\")\n",
    "    end\n",
    "end\n",
    "\n",
    "print(\"you've collided with the wall\")"
   ]
  },
  {
   "attachments": {},
   "cell_type": "markdown",
   "metadata": {},
   "source": [
    "The program above will never terminate; the numbers will get extremely close to 0 and just barely pass it, thus never fulfilling the condition $d \\neq$ 0. This problem is due to something known as floating point error.\n",
    "There are a couple of sources for error in a programming context.\n",
    "1. Measurement error / User error\n",
    "2. Inadequate modeling\n",
    "3. Precision error (number representation, floating point error) \n",
    "4. Rounding error\n",
    "5. Truncation error"
   ]
  },
  {
   "attachments": {},
   "cell_type": "markdown",
   "metadata": {},
   "source": [
    "# Error Quantification\n",
    "## True error\n",
    "True error is simply the difference between the true value and the approximated value found by a program, denoted as $E_t$. By its very nature, every approximation is going to be different from the true value; approximations are meant to produce a value \"good enough\" for calculation while preserving some computing power. For example, the derivative at a point can be approximated as \n",
    "$$f'(x) \\approx \\frac{f(x + h) - f(x)}{h}$$\n",
    "In discrete systems, like computers, symbolic differentiation is a challenging task; while we can simply differentiate and plug in values for the derivative of $7e^{0.5x}$, it is much easier to forgo mathematical accuracy in favor of a \"good enough\" approximation. The true error, then, would be the difference \n",
    "$$f'(x) - \\frac{f(x + h) - f(x)}{h}$$ \n",
    "However, the magnitude of some true error is not sufficient to communicate the full picture of the nature of the error itself; an error of 1 is excellent for some large mumber, but is horrible for a really small number.\n",
    "\n",
    "## Relative error\n",
    "Relative error aims to remedy the issue with true error by dividing the true error by the true value; in doing so, it aims to quantify the amount of error present in terms of the actual value. Relative error is equal to \n",
    "$$\\epsilon_t = \\frac{\\text{True value - Approximate value}}{\\text{True value}} = \\frac{E_t}{f(x_0)}$$\n",
    "However, there is a small problem; relative error, along with true error, requires us to have knowledge of the true value, which is not always the case.\n",
    "\n",
    "## Approximate error\n",
    "Approximate error is the difference between some present approximation and a previously executed approximation, with the motivation being that comparisons between some iterated process of generating approximations will be able to quantify error relative to each other.\n",
    "$$E_a = \\text{Present approximation - Previous approximation}$$\n",
    "However, this suffers from the same issue as true error, in that it is just a magnitude; there is no way to gauge how serious the error is in relation to the actual value.\n",
    "\n",
    "## Relative approximate error\n",
    "Relative approximation is a similar approach to error as relative error, different in that it uses approximate error instead of true error. \n",
    "$$\\epsilon_a = \\frac{\\text{Present approximation - Previous approximation}}{\\text{Present approximation}} = \\frac{\\text{new - old}}{\\text{new}}$$"
   ]
  },
  {
   "attachments": {},
   "cell_type": "markdown",
   "metadata": {},
   "source": [
    "In dealing with error, we want to follow a series of principles:\n",
    "1. Identify the source of error\n",
    "2. Quantify the error\n",
    "3. Minimize the error\n",
    "In minimization, we can set some error \"tolerance\" and continue iterating in an approximation process until $\\epsilon_a \\leq$ tolerance."
   ]
  }
 ],
 "metadata": {
  "kernelspec": {
   "display_name": "Julia 1.8.1",
   "language": "julia",
   "name": "julia-1.8"
  },
  "language_info": {
   "file_extension": ".jl",
   "mimetype": "application/julia",
   "name": "julia",
   "version": "1.8.1"
  },
  "orig_nbformat": 4,
  "vscode": {
   "interpreter": {
    "hash": "916dbcbb3f70747c44a77c7bcd40155683ae19c65e1c03b4aa3499c5328201f1"
   }
  }
 },
 "nbformat": 4,
 "nbformat_minor": 2
}
