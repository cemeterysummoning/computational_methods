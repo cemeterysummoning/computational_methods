{
 "cells": [
  {
   "attachments": {},
   "cell_type": "markdown",
   "metadata": {},
   "source": [
    "Formula (version C):\n",
    "$$x = -\\frac{b}{2a} \\pm \\sqrt{ \\left( \\frac{b}{2a} \\right)^2 - \\frac{c}{a}}$$"
   ]
  },
  {
   "cell_type": "code",
   "execution_count": 13,
   "metadata": {},
   "outputs": [
    {
     "data": {
      "text/plain": [
       "formula_bigfloat (generic function with 1 method)"
      ]
     },
     "metadata": {},
     "output_type": "display_data"
    }
   ],
   "source": [
    "function formula_float32(a, b, c)\n",
    "    # version C\n",
    "    comp_1 = - Float32(b / (2 * a))\n",
    "    comp_2 = Float32(sqrt( (b / (2 * a)) ^ 2 - c / a ))\n",
    "\n",
    "    return (comp_1 + comp_2, comp_1 - comp_2)\n",
    "end\n",
    "\n",
    "function formula_float64(a, b, c)\n",
    "    # version C\n",
    "    comp_1 = - Float64(b / (2 * a))\n",
    "    comp_2 = Float64(sqrt( (b / (2 * a)) ^ 2 - c / a ))\n",
    "\n",
    "    return (comp_1 + comp_2, comp_1 - comp_2)\n",
    "end\n",
    "\n",
    "function formula_bigfloat(a, b, c)\n",
    "    # version C\n",
    "    comp_1 = - BigFloat(b / (2 * a))\n",
    "    comp_2 = BigFloat(sqrt( (b / (2 * a)) ^ 2 - c / a ))\n",
    "\n",
    "    return (comp_1 + comp_2, comp_1 - comp_2)\n",
    "end"
   ]
  },
  {
   "attachments": {},
   "cell_type": "markdown",
   "metadata": {},
   "source": [
    "Equation 1 (4): \n",
    "$$3z^2 = 4.2z + 1.5$$\n",
    "Equation 2 (8):\n",
    "$$-5.2z^2 + 176z + 1218 = 0$$"
   ]
  },
  {
   "cell_type": "code",
   "execution_count": 3,
   "metadata": {},
   "outputs": [
    {
     "data": {
      "text/plain": [
       "#11 (generic function with 1 method)"
      ]
     },
     "metadata": {},
     "output_type": "display_data"
    }
   ],
   "source": [
    "eq_1 = (3, -4.2, -1.5)\n",
    "eq_2 = (-5.2, 176, 1218)\n",
    "\n",
    "p_1 = x -> eq_1[1] * x ^ 2 + eq_1[2] * x + eq_1[3]\n",
    "p_2 = x -> eq_2[1] * x ^ 2 + eq_2[2] * x + eq_2[3]"
   ]
  },
  {
   "cell_type": "code",
   "execution_count": 4,
   "metadata": {},
   "outputs": [],
   "source": [
    "using Plots\n",
    "using LaTeXStrings"
   ]
  },
  {
   "cell_type": "code",
   "execution_count": 10,
   "metadata": {},
   "outputs": [
    {
     "name": "stdout",
     "output_type": "stream",
     "text": [
      "(1.69498743710662 + 0.0im, -0.2949874371066199 - 0.0im)"
     ]
    },
    {
     "data": {
      "text/plain": [
       "\"/home/ace/scripts/schoolwork/comp_methods/project_0/p1.png\""
      ]
     },
     "metadata": {},
     "output_type": "display_data"
    }
   ],
   "source": [
    "plot(p_1, -0.5, 2, label = L\"3x^2 - 4.2x - 1.5\", framestyle=:zerolines)\n",
    "scatter!([1.69598, -0.29498], [0, 0], label=\"\")\n",
    "savefig(\"p1.png\")"
   ]
  },
  {
   "cell_type": "code",
   "execution_count": 12,
   "metadata": {},
   "outputs": [
    {
     "name": "stdout",
     "output_type": "stream",
     "text": [
      "(39.74020430088564 + 0.0im, -5.89405045473179 - 0.0im)"
     ]
    },
    {
     "data": {
      "text/plain": [
       "\"/home/ace/scripts/schoolwork/comp_methods/project_0/p2.png\""
      ]
     },
     "metadata": {},
     "output_type": "display_data"
    }
   ],
   "source": [
    "plot(p_2, -10, 45, label = L\"-5.2x^2 + 176x + 1218\", framestyle=:zerolines)\n",
    "scatter!([39.7402, -5.8940], [0, 0], label=\"\")\n",
    "savefig(\"p2.png\")"
   ]
  },
  {
   "cell_type": "code",
   "execution_count": 15,
   "metadata": {},
   "outputs": [
    {
     "name": "stdout",
     "output_type": "stream",
     "text": [
      "(1.6949874f0, -0.29498744f0)\n",
      "("
     ]
    },
    {
     "name": "stdout",
     "output_type": "stream",
     "text": [
      "1.69498743710662, -0.2949874371066199)\n",
      "(1.694987437106620031812553861527703702449798583984375, -0.2949874371066198985857909065089188516139984130859375)\n"
     ]
    }
   ],
   "source": [
    "println(formula_float32(eq_1[1], eq_1[2], eq_1[3]))\n",
    "println(formula_float64(eq_1[1], eq_1[2], eq_1[3]))\n",
    "println(formula_bigfloat(eq_1[1], eq_1[2], eq_1[3]))"
   ]
  },
  {
   "cell_type": "code",
   "execution_count": 16,
   "metadata": {},
   "outputs": [
    {
     "name": "stdout",
     "output_type": "stream",
     "text": [
      "(39.740204f0, -5.8940506f0)\n",
      "(39.74020430088564, -5.89405045473179)\n",
      "(39.74020430088563671233714558184146881103515625, -5.89405045473179001191965653561055660247802734375)\n"
     ]
    }
   ],
   "source": [
    "println(formula_float32(eq_2[1], eq_2[2], eq_2[3]))\n",
    "println(formula_float64(eq_2[1], eq_2[2], eq_2[3]))\n",
    "println(formula_bigfloat(eq_2[1], eq_2[2], eq_2[3]))"
   ]
  },
  {
   "cell_type": "code",
   "execution_count": 21,
   "metadata": {},
   "outputs": [
    {
     "data": {
      "text/plain": [
       "0.0"
      ]
     },
     "metadata": {},
     "output_type": "display_data"
    }
   ],
   "source": [
    "(BigFloat((7 + sqrt(99)) / 10) - formula_bigfloat(eq_1[1], eq_1[2], eq_1[3])[1]) / formula_bigfloat(eq_1[1], eq_1[2], eq_1[3])[1]"
   ]
  }
 ],
 "metadata": {
  "kernelspec": {
   "display_name": "Julia 1.8.1",
   "language": "julia",
   "name": "julia-1.8"
  },
  "language_info": {
   "file_extension": ".jl",
   "mimetype": "application/julia",
   "name": "julia",
   "version": "1.8.1"
  },
  "orig_nbformat": 4
 },
 "nbformat": 4,
 "nbformat_minor": 2
}
