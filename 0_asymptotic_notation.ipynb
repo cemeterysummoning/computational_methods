{
 "cells": [
  {
   "attachments": {},
   "cell_type": "markdown",
   "metadata": {},
   "source": [
    "The formal definition of Big O notation is as follows:\n",
    "A function $f(n)$ is said to be $O(g(n))$ if it is *strictly* bounded above by $g(n)$. \n",
    "$$\\exists n_0 [\\forall n[ n > n_0 \\to f(n) \\leq c \\cdot g(n)]]$$\n",
    "\n",
    "A function $f(n)$ is said to be $\\Omega(g(n))$ if it is *strictly* bounded below by $g(n)$.\n",
    "$$\\exists n_0 [\\forall n [ n > n_0 \\to f(n) \\geq c \\cdot g(n)]]$$\n",
    "\n",
    "A function $f(n)$ is said to be $\\Theta(g(n))$ if it is both $O(g(n))$ and $\\Omega(g(n))$.\n",
    "$$\\exists c_0,\\ c_1 [\\forall n [ n > n_0 \\to c_0 \\cdot g(n) \\leq f(n) \\leq c_1 \\cdot g(n)]]$$\n",
    "\n",
    "In simple terms, $O(n)$ indicates that $f(n)$ \"does not grow faster than\" $g(n)$, while $\\Theta(n)$ indicates that $f(n)$ \"grows as fast as\" $g(n)$."
   ]
  },
  {
   "attachments": {},
   "cell_type": "markdown",
   "metadata": {},
   "source": [
    "A \"loose bound\" is a bound in which we may choose any choose any constant $c$ to make an expression true: $O$ and $\\Omega$ notations are examples of loose bounds.\n",
    "\n",
    "\"Tight bounds\", on the other hand, require that some relation work for all real constants $c$. The \"tight\" counterparts to $O$ and $\\Omega$ are denoted as $o$ and $\\omega$.\n",
    "\n",
    "|Definition | $?\\ c > 0$ | $?\\ n_0 \\geq 1$ | $f(n)\\ ?\\ c \\cdot g(n)$|\n",
    "|   :---:   |   :---:   |     :---:      |         :---:        |\n",
    "|$O()$ | $\\exists$ | $\\exists$ | $\\leq$ |\n",
    "|$o()$ | $\\forall$ | $\\exists$| $<$ |\n",
    "|$\\Omega()$ | $\\exists$ | $\\exists$ | $\\geq$ |\n",
    "|$\\omega()$ | $\\forall$ | $\\exists$ | $>$ |\n",
    "\n",
    "This notation is known as Bachmann-Landau notation."
   ]
  },
  {
   "attachments": {},
   "cell_type": "markdown",
   "metadata": {},
   "source": [
    "The alternative definition of $o(n)$ and $\\omega(n)$ expresses things in terms of a limit. \n",
    "\n",
    "A function $f$ is said to be in $o(g(n))$ if \n",
    "$$\\lim_{n \\to \\infty} \\frac{f(n)}{g(n)} = 0$$\n",
    "A function $f$ is said to be in $\\omega(g(n))$ if \n",
    "$$\\lim_{n \\to \\infty} \\frac{g(n)}{f(n)} = 0$$"
   ]
  }
 ],
 "metadata": {
  "kernelspec": {
   "display_name": "Julia 1.8.1",
   "language": "julia",
   "name": "julia-1.8"
  },
  "language_info": {
   "file_extension": ".jl",
   "mimetype": "application/julia",
   "name": "julia",
   "version": "1.8.1"
  },
  "orig_nbformat": 4,
  "vscode": {
   "interpreter": {
    "hash": "916dbcbb3f70747c44a77c7bcd40155683ae19c65e1c03b4aa3499c5328201f1"
   }
  }
 },
 "nbformat": 4,
 "nbformat_minor": 2
}
