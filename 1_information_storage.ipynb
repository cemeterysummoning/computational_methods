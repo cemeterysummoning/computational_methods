{
 "cells": [
  {
   "attachments": {},
   "cell_type": "markdown",
   "metadata": {},
   "source": [
    "Most models of computation depend on the bit, or the binary digit. \n",
    "\n",
    "Computer systems use RAM (Random Access Memory) to store runtime data. It is known as \"volatile\" memory because the data is essentially flushed out when the power is cut off. \n",
    "\n",
    "Every number is subject to different interpretations with respect to different number base systems. \n",
    "\n",
    "For an $n$ digit string in some base $x$, the expansion works as follows:\n",
    "$$a_{n-1} a_{n-2} a_{n-3} \\cdots a_0 \\Rightarrow a_{n-1} x^{n-1} + a_{n-2} x^{n-2} + a_{n-3} x^{n - 3} + \\cdots + a_0 x^0 = \\sum_{i = 0}^{n-1} a_i x^i$$ \n",
    "This is essentially an extension of the \"expanded form\" of a decimal number."
   ]
  },
  {
   "attachments": {},
   "cell_type": "markdown",
   "metadata": {},
   "source": [
    "A \"word\" in memory is essentially a storage location in physical memory. For example, a 6-digit word may look something like \n",
    "\n",
    "|  |  |  |  |  |  |\n",
    "|-|-|-|-|-|-|\n",
    "\n",
    "If we were to store the string \"1984\", this will turn into\n",
    "\n",
    "|0|0|1|9|8|4|\n",
    "|-|-|-|-|-|-|\n",
    "\n",
    "Addition in different number systems works the same way as it would with base-10: we can set up a table and add numbers, \"carrying over\" the excess to the next place value."
   ]
  },
  {
   "attachments": {},
   "cell_type": "markdown",
   "metadata": {},
   "source": [
    "Negative numbers can be represented in numerous different ways. The simplest model of a negative sign implementation is a sign magnitude representation, where the very first bit represents the sign of the number, and the rest of the $n-1$ bits represent the actual value. \n",
    "\n",
    "|1|1|1|0|0|1|\n",
    "|-|-|-|-|-|-|\n",
    "\n",
    "would evaluate to $-25$, as the first bit is $1$, and $1101_2$ evaluates to $25$. Positive $25$, on the other hand, would be represented as \n",
    "\n",
    "|0|1|1|0|0|1|\n",
    "|-|-|-|-|-|-|\n",
    "\n",
    "Other schemas include ones-complement and twos-complement.\n",
    "\n",
    "However, the problem with this sign-magnitude representation is that addition may cause the overflow to flip the sign bit, which would flip the entire sum to a negative number. "
   ]
  },
  {
   "attachments": {},
   "cell_type": "markdown",
   "metadata": {},
   "source": [
    "We can aso extend binary to the right of the decimal point. \n",
    "|$\\cdots$|$2^3$|$2^2$|$2^1$|$2^0$|.|$2^{-1}$|$2^{-2}$|$2^{-3}$|$\\cdots$|\n",
    "|-       |-    |-    |-    |-    |-|-       |-       |-       |-       |\n",
    "\n",
    "This leads to some issues. 0.1, for example, is an infinite decimal number in binary: \n",
    "$$\\frac{1}{10} = \\frac{1}{2^4} + \\frac{1}{2^5} + \\frac{0}{2^6} + \\frac{0}{2^7} + \\cdots $$\n",
    "The fraction continues forever. This leads to what is known as a floating point error."
   ]
  },
  {
   "cell_type": "code",
   "execution_count": 4,
   "metadata": {},
   "outputs": [
    {
     "name": "stdout",
     "output_type": "stream",
     "text": [
      "1\n",
      "2\n",
      "4\n",
      "8\n",
      "16\n",
      "32\n",
      "64\n",
      "128\n",
      "256\n",
      "512\n",
      "1024\n",
      "2048\n",
      "4096\n",
      "8192\n",
      "16384\n",
      "32768\n",
      "65536\n",
      "131072\n",
      "262144\n",
      "524288\n",
      "1048576\n",
      "2097152\n",
      "4194304\n",
      "8388608\n",
      "16777216\n",
      "33554432\n",
      "67108864\n",
      "134217728\n",
      "268435456\n",
      "536870912\n",
      "1073741824\n"
     ]
    }
   ],
   "source": [
    "x = 1\n",
    "for i = 0:30\n",
    "    print(x << i)\n",
    "    print(\"\\n\")\n",
    "end"
   ]
  },
  {
   "attachments": {},
   "cell_type": "markdown",
   "metadata": {},
   "source": [
    "The range of the traditional \"signed 32 bit\" integer is -2147483648 to 2147483647. Notice that we have, technically, space for one more negative number than a positive number. This is the case because most machines operate on a two's complement system of representing numbers. As some motivation, take a look at the following table for the representation of integers using just a single signed bit:\n",
    "|00|0|\n",
    "|-|-|\n",
    "|01|1|\n",
    "|10|0|\n",
    "|11|-1|\n",
    "\n",
    "There are two spaces in which zero is represented, as zero is neither negative nor positive - this is wasted space. This is our motivation for using a different system.\n",
    "\n",
    "The essence of two's complement is, essentially, \"flip the bits and add 1.\" Given some number $x$:\n",
    "1. If $x \\geq$ 0, then we may just find the corresponding binary number.\n",
    "2. If $x <$ 0, then we will find the corresponding binary number of $|x|$, and then flip each bit in the resulting number and add one to the result.    \n",
    "\n",
    "Notice that, if the first bit is 1, then our quantity will still be negative. \n",
    "\n",
    "Converting from two's complement requires a bit more thinking. Essentially, we still flip the bits and add 1 to the number; this process gives us the magnitude of the number. We must take into consideration the value of the most significant bit, which tells us if the number is negative or positive.\n",
    "\n",
    "With two's complement, we can perform arithmetic the exact same way we would with unsigned bits, which is extremely useful for fast computation in different computer architectures."
   ]
  }
 ],
 "metadata": {
  "kernelspec": {
   "display_name": "Julia 1.8.1",
   "language": "julia",
   "name": "julia-1.8"
  },
  "language_info": {
   "file_extension": ".jl",
   "mimetype": "application/julia",
   "name": "julia",
   "version": "1.8.1"
  },
  "orig_nbformat": 4,
  "vscode": {
   "interpreter": {
    "hash": "916dbcbb3f70747c44a77c7bcd40155683ae19c65e1c03b4aa3499c5328201f1"
   }
  }
 },
 "nbformat": 4,
 "nbformat_minor": 2
}
