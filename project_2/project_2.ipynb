{
 "cells": [
  {
   "cell_type": "code",
   "execution_count": 10,
   "metadata": {},
   "outputs": [],
   "source": [
    "using Plots\n",
    "using LaTeXStrings\n",
    "using MTH229"
   ]
  },
  {
   "cell_type": "code",
   "execution_count": 11,
   "metadata": {},
   "outputs": [
    {
     "data": {
      "text/plain": [
       "#25 (generic function with 1 method)"
      ]
     },
     "metadata": {},
     "output_type": "display_data"
    }
   ],
   "source": [
    "p = x -> -5.2 * x^2 + 176 * x + 1218\n",
    "int_p = x -> -5.2 / 3 * x^3 + 88 * x^2 + 1218 * x\n"
   ]
  },
  {
   "cell_type": "code",
   "execution_count": 17,
   "metadata": {},
   "outputs": [
    {
     "name": "stdout",
     "output_type": "stream",
     "text": [
      "Approximation: 66189.38775510204\n",
      "True value: 70586.6666666667\n",
      "Error: 6.22961689398087%\n"
     ]
    },
    {
     "data": {
      "text/plain": [
       "\"/home/ace/scripts/schoolwork/comp_methods/project_2/images/LRAM_2.png\""
      ]
     },
     "metadata": {},
     "output_type": "display_data"
    }
   ],
   "source": [
    "function LRAM(func, left, right, n) \n",
    "    @syms x # using MTH229 and sympy to find the true value of the integral\n",
    "    true_val = integrate(func(x), (x, left, right))\n",
    "\n",
    "    accumulator = 0 \n",
    "\n",
    "    plot(func, left, right, framestyle=:zerolines)\n",
    "    rectangle(w, h, l_x, l_y) = Shape(l_x .+ [0, w, w, 0], l_y .+ [0, 0, h, h])\n",
    "\n",
    "    delta = (right - left) / n\n",
    "    for i in 0:(n - 1)\n",
    "        h = func(left + i * delta)\n",
    "        accumulator += delta * h\n",
    "        plot!(rectangle(delta, h, left + delta * i, 0), opacity=0.4, primary=false)\n",
    "    end\n",
    "\n",
    "    # relative true error calculation\n",
    "    error = abs((true_val - accumulator) / true_val)\n",
    "\n",
    "    println(\"Approximation: \" * string(accumulator))\n",
    "    println(\"True value: \" * string(true_val))\n",
    "    println(\"Error: \" * string(error * 100) * \"%\")\n",
    "    savefig(\"images/LRAM_2.png\")\n",
    "end\n",
    "LRAM(p, -10, 30, 14)"
   ]
  },
  {
   "cell_type": "code",
   "execution_count": 19,
   "metadata": {},
   "outputs": [
    {
     "name": "stdout",
     "output_type": "stream",
     "text": [
      "Approximation: 74417.95918367346\n",
      "True value: 70586.6666666667\n",
      "Error: 5.42778501653776%\n"
     ]
    },
    {
     "data": {
      "text/plain": [
       "\"/home/ace/scripts/schoolwork/comp_methods/project_2/images/RRAM_2.png\""
      ]
     },
     "metadata": {},
     "output_type": "display_data"
    }
   ],
   "source": [
    "function RRAM(func, left, right, n) \n",
    "    @syms x # using MTH229 and sympy to find the true value of the integral\n",
    "    true_val = integrate(func(x), (x, left, right))\n",
    "\n",
    "    accumulator = 0\n",
    "    plot(func, left, right, framestyle=:zerolines)\n",
    "    rectangle(w, h, l_x, l_y) = Shape(l_x .+ [0, w, w, 0], l_y .+ [0, 0, h, h])\n",
    "\n",
    "    delta = (right - left) / n\n",
    "    for i in 0:(n-1)\n",
    "        h = func(left + (i+1) * delta)\n",
    "        accumulator += delta * h\n",
    "        plot!(rectangle(delta, h, left + delta * i, 0), opacity=0.4, primary=false)\n",
    "    end\n",
    "\n",
    "    # relative true error calculation\n",
    "    error = abs((true_val - accumulator) / true_val)\n",
    "\n",
    "    println(\"Approximation: \" * string(accumulator))\n",
    "    println(\"True value: \" * string(true_val))\n",
    "    println(\"Error: \" * string(error * 100) * \"%\")\n",
    "    \n",
    "    savefig(\"images/RRAM_2.png\")\n",
    "end\n",
    "RRAM(p, -10, 30, 14)"
   ]
  },
  {
   "cell_type": "code",
   "execution_count": 23,
   "metadata": {},
   "outputs": [
    {
     "name": "stdout",
     "output_type": "stream",
     "text": [
      "Approximation: 70728.16326530612\n",
      "True value: 70586.6666666667\n",
      "Error: 0.200457969360766%\n"
     ]
    },
    {
     "data": {
      "text/plain": [
       "\"/home/ace/scripts/schoolwork/comp_methods/project_2/images/MRAM_2.png\""
      ]
     },
     "metadata": {},
     "output_type": "display_data"
    }
   ],
   "source": [
    "function MRAM(func, left, right, n)\n",
    "    @syms x # using MTH229 and sympy to find the true value of the integral\n",
    "    true_val = integrate(func(x), (x, left, right))\n",
    "\n",
    "    accumulator = 0\n",
    "\n",
    "    function midpoint(l, r)\n",
    "        return (l + r) / 2\n",
    "    end\n",
    "    \n",
    "    plot(func, left, right, framestyle=:zerolines)\n",
    "    rectangle(w, h, l_x, l_y) = Shape(l_x .+ [0, w, w, 0], l_y .+ [0, 0, h, h])\n",
    "    delta = (right - left) / n\n",
    "\n",
    "    for i in 0:(n-1)\n",
    "        h = func(midpoint(left + i * delta, left + (i + 1) * delta))\n",
    "        accumulator += delta * h\n",
    "        plot!(rectangle(delta, h, left + delta * i, 0), opacity=0.4, primary=false)\n",
    "    end\n",
    "\n",
    "    # relative true error calculation\n",
    "    error = abs((true_val - accumulator) / true_val)\n",
    "\n",
    "    println(\"Approximation: \" * string(accumulator))\n",
    "    println(\"True value: \" * string(true_val))\n",
    "    println(\"Error: \" * string(error * 100) * \"%\")\n",
    "\n",
    "    savefig(\"images/MRAM_2.png\")\n",
    "end\n",
    "MRAM(p, -10, 30, 14)"
   ]
  },
  {
   "cell_type": "code",
   "execution_count": 27,
   "metadata": {},
   "outputs": [
    {
     "name": "stdout",
     "output_type": "stream",
     "text": [
      "Approximation: 64551.25\n",
      "True value: 70586.6666666667\n",
      "Error: 8.55036361919154%\n"
     ]
    },
    {
     "data": {
      "text/plain": [
       "\"/home/ace/scripts/schoolwork/comp_methods/project_2/images/LowerRAM_2.png\""
      ]
     },
     "metadata": {},
     "output_type": "display_data"
    }
   ],
   "source": [
    "function lower_approx(func, left, right, n)\n",
    "    @syms x # using MTH229 and sympy to find the true value of the integral\n",
    "    true_val = integrate(func(x), (x, left, right))\n",
    "    critical_point = find_zero(func', left)\n",
    "\n",
    "    delta = (right - left) / n\n",
    "    plot(func, left, right, framestyle=:zerolines)\n",
    "    rectangle(w, h, l_x, l_y) = Shape(l_x .+ [0, w, w, 0], l_y .+ [0, 0, h, h])\n",
    "\n",
    "    accumulator = 0\n",
    "    for i in 0:(n-1)\n",
    "        # finding the lowest value, based on critical points\n",
    "        if left + i * delta < critical_point && critical_point < left + (i + 1) * delta\n",
    "            h = min(func(critical_point), func(left + i * delta), func(left + (i + 1) * delta))\n",
    "        else \n",
    "            h = min(func(left + i * delta), func(left + (i + 1) * delta))\n",
    "        end\n",
    "        accumulator += delta * h\n",
    "        plot!(rectangle(delta, h, left + delta * i, 0), opacity=0.4, primary=false)\n",
    "    end\n",
    "\n",
    "    # relative true error calculation\n",
    "    error = abs((true_val - accumulator) / true_val)\n",
    "\n",
    "    println(\"Approximation: \" * string(accumulator))\n",
    "    println(\"True value: \" * string(true_val))\n",
    "    println(\"Error: \" * string(error * 100) * \"%\")\n",
    "\n",
    "    savefig(\"images/LowerRAM_2.png\")\n",
    "\n",
    "end\n",
    "\n",
    "lower_approx(p, -10, 30, 16)"
   ]
  }
 ],
 "metadata": {
  "kernelspec": {
   "display_name": "Julia 1.8.1",
   "language": "julia",
   "name": "julia-1.8"
  },
  "language_info": {
   "file_extension": ".jl",
   "mimetype": "application/julia",
   "name": "julia",
   "version": "1.8.1"
  },
  "orig_nbformat": 4
 },
 "nbformat": 4,
 "nbformat_minor": 2
}
