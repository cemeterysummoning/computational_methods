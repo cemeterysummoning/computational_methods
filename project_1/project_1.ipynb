{
 "cells": [
  {
   "cell_type": "code",
   "execution_count": 102,
   "metadata": {},
   "outputs": [
    {
     "data": {
      "text/plain": [
       "bisection_decimalplace (generic function with 1 method)"
      ]
     },
     "metadata": {},
     "output_type": "display_data"
    }
   ],
   "source": [
    "function bisection_fixediter(func, l, r, param)\n",
    "    prev_val = Float64((l + r) / 2)\n",
    "    error = 1\n",
    "    for i in 1:param\n",
    "        temp_x = Float64((l + r) / 2)\n",
    "        temp_y = func(temp_x)\n",
    "\n",
    "        if temp_y * func(r) > 0\n",
    "            r = temp_x\n",
    "        elseif temp_y * func(l) > 0\n",
    "            l = temp_x\n",
    "        end\n",
    "        cur_val = Float64((l + r) / 2)\n",
    "        error = abs((cur_val - prev_val) / cur_val)\n",
    "        prev_val = cur_val\n",
    "    end\n",
    "    return Float64((l + r) / 2), func((l + r) / 2), error\n",
    "end\n",
    "\n",
    "function bisection_decimalplace(func, l, r, param)\n",
    "    threshold = max(eps(Float64), 0.5 * 10 ^ (Float64(- param)))\n",
    "    count = 0\n",
    "\n",
    "    error = 1 # arbitrary initial error\n",
    "    prev_val = Float64((l + r) / 2)\n",
    "\n",
    "    while error > threshold\n",
    "        temp_y = func((l + r) / 2)\n",
    "        if temp_y * func(r) > 0\n",
    "            r = (l + r) / 2\n",
    "        elseif temp_y * func(l) > 0\n",
    "            l = (l + r) / 2\n",
    "        end\n",
    "        count += 1\n",
    "        cur_val = Float64((l + r) / 2)\n",
    "        error = abs((cur_val - prev_val) / cur_val)\n",
    "        prev_val = cur_val\n",
    "    end\n",
    "    return Float64((l + r) / 2), Float64(func((l + r) / 2)), count, error\n",
    "end"
   ]
  },
  {
   "cell_type": "code",
   "execution_count": 104,
   "metadata": {},
   "outputs": [
    {
     "data": {
      "text/plain": [
       "(1.4375, -0.029541015625, 0.043478260869565216)"
      ]
     },
     "metadata": {},
     "output_type": "display_data"
    }
   ],
   "source": [
    "func = x -> x ^ 3 - 3\n",
    "\n",
    "true_val = cbrt(3), func(Float64(cbrt(3)))\n",
    "bisection_fixediter(func, 1, 2, 3)"
   ]
  },
  {
   "cell_type": "code",
   "execution_count": 105,
   "metadata": {},
   "outputs": [],
   "source": [
    "using Plots\n",
    "using LaTeXStrings"
   ]
  },
  {
   "cell_type": "code",
   "execution_count": 109,
   "metadata": {},
   "outputs": [
    {
     "data": {
      "text/plain": [
       "\"/home/ace/scripts/schoolwork/comp_methods/project_1/p.png\""
      ]
     },
     "metadata": {},
     "output_type": "display_data"
    }
   ],
   "source": [
    "p = x -> 4 * x ^ 2 - 4 * x - 2\n",
    "plot(p, -0.5, 2, label = L\"4x^2 - 4x - 2\", framestyle=:zerolines)\n",
    "scatter!([1.366, -0.366], [0, 0], label=\"\")\n",
    "savefig(\"p.png\")"
   ]
  },
  {
   "cell_type": "code",
   "execution_count": 111,
   "metadata": {},
   "outputs": [
    {
     "data": {
      "text/plain": [
       "(1.36572265625, -0.0020971298217773438, 11, 0.0003575259206292456)"
      ]
     },
     "metadata": {},
     "output_type": "display_data"
    }
   ],
   "source": [
    "bisection_decimalplace(p, 1, 2, 3)"
   ]
  }
 ],
 "metadata": {
  "kernelspec": {
   "display_name": "Julia 1.8.1",
   "language": "julia",
   "name": "julia-1.8"
  },
  "language_info": {
   "file_extension": ".jl",
   "mimetype": "application/julia",
   "name": "julia",
   "version": "1.8.1"
  },
  "orig_nbformat": 4
 },
 "nbformat": 4,
 "nbformat_minor": 2
}
