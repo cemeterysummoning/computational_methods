{
 "cells": [
  {
   "attachments": {},
   "cell_type": "markdown",
   "metadata": {},
   "source": [
    "There are multiple methods used to approximate the area under a given curve for which there may be no closed for integral.\n",
    "\n",
    "# Right Rectangle Approximation Method (RRAM)\n",
    "In an RRAM approximation, the interval is divided into four pieces, for which the function is evaluated at each right endpoint. This becomes the height for our approximating rectangle for that area. \n",
    "\n",
    "# Left Rectangle Approximation Method (LRAM)\n",
    "LRAM works functionally the same as RRAM; the endpoint chosen, however, is to the left of the rectangle rather than to the right. \n",
    "\n",
    "# Midpoint Rectangle Approximation Method (MRAM)\n",
    "MRAM computes the midpoint between each interval and uses the function evaluated at the midpoint as the height of each rectangle."
   ]
  }
 ],
 "metadata": {
  "language_info": {
   "name": "python"
  },
  "orig_nbformat": 4
 },
 "nbformat": 4,
 "nbformat_minor": 2
}
